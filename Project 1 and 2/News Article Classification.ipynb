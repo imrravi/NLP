{
 "cells": [
  {
   "cell_type": "markdown",
   "id": "0248e701-7888-4538-bee2-8d8edeb697c4",
   "metadata": {},
   "source": [
    "### Part B : News Article Classification\n",
    "#### 1. Overview\n",
    "In today’s digital world, news articles are constantly being generated and shared across\n",
    "different platforms. For news organizations, social media platforms, and aggregators,\n",
    "classifying articles into specific categories such as sports, politics, and technology can help\n",
    "improve content management and recommendation systems. This project aims to develop a\n",
    "machine learning model that can classify news articles into predefined categories, such as\n",
    "sports, politics, and technology, based on their content.\n",
    "By automating this process, organizations can efficiently categorize large volumes of news\n",
    "articles, making it easier for readers to access relevant information based on their interests.\n",
    "#### 2. Problem Statement\n",
    "The primary objective of this project is to build a classification model that can automatically\n",
    "categorize news articles into different predefined categories. The model will be trained using\n",
    "a labeled dataset of news articles and will output the most likely category (e.g., sports,\n",
    "politics, or technology) for any given article.\n",
    "##### The goal is to:\n",
    "* Develop a robust classifier capable of handling articles from multiple categories.\n",
    "* Preprocess the text data, extract meaningful features, and train models to classify the\n",
    "articles.\n",
    "* Evaluate the model performance and provide actionable insights on how well it\n",
    "classifies articles.\n",
    "#### Dataset Information\n",
    "The dataset can be used from [data_news](https://docs.google.com/spreadsheets/d/1m4YMfqQxo_DcbtzGqbfZitvJmytbWUE8qjixhHmtadk/edit?pli=1&gid=1552269726#gid=1552269726)"
   ]
  },
  {
   "cell_type": "code",
   "execution_count": 3,
   "id": "7077da2d-3bd8-4c18-8760-1602b55be20b",
   "metadata": {},
   "outputs": [],
   "source": [
    "# Import libraries\n",
    "import numpy as np\n",
    "import pandas as pd\n",
    "import matplotlib.pyplot as plt\n",
    "import seaborn as sns\n",
    "from wordcloud import WordCloud\n",
    "\n",
    "import re\n",
    "import nltk\n",
    "import contractions\n",
    "from nltk.corpus import stopwords\n",
    "from nltk.tokenize import word_tokenize\n",
    "from nltk.stem import WordNetLemmatizer, PorterStemmer\n",
    "from sklearn.preprocessing import LabelEncoder\n",
    "\n",
    "from sklearn.feature_extraction.text import CountVectorizer, TfidfVectorizer\n",
    "from sklearn.model_selection import train_test_split, cross_val_score\n",
    "from gensim.models import Word2Vec\n",
    "from sklearn.linear_model import LogisticRegression\n",
    "from sklearn.svm import LinearSVC\n",
    "from sklearn.naive_bayes import GaussianNB\n",
    "from sklearn.metrics import accuracy_score, classification_report, confusion_matrix\n",
    "\n",
    "import warnings\n",
    "warnings.filterwarnings('ignore')"
   ]
  },
  {
   "cell_type": "code",
   "execution_count": 4,
   "id": "767d4380-4c1d-4dc0-88d7-90dc034a84c4",
   "metadata": {},
   "outputs": [
    {
     "data": {
      "text/html": [
       "<div>\n",
       "<style scoped>\n",
       "    .dataframe tbody tr th:only-of-type {\n",
       "        vertical-align: middle;\n",
       "    }\n",
       "\n",
       "    .dataframe tbody tr th {\n",
       "        vertical-align: top;\n",
       "    }\n",
       "\n",
       "    .dataframe thead th {\n",
       "        text-align: right;\n",
       "    }\n",
       "</style>\n",
       "<table border=\"1\" class=\"dataframe\">\n",
       "  <thead>\n",
       "    <tr style=\"text-align: right;\">\n",
       "      <th></th>\n",
       "      <th>category</th>\n",
       "      <th>headline</th>\n",
       "      <th>links</th>\n",
       "      <th>short_description</th>\n",
       "      <th>keywords</th>\n",
       "    </tr>\n",
       "  </thead>\n",
       "  <tbody>\n",
       "    <tr>\n",
       "      <th>0</th>\n",
       "      <td>WELLNESS</td>\n",
       "      <td>143 Miles in 35 Days: Lessons Learned</td>\n",
       "      <td>https://www.huffingtonpost.com/entry/running-l...</td>\n",
       "      <td>Resting is part of training. I've confirmed wh...</td>\n",
       "      <td>running-lessons</td>\n",
       "    </tr>\n",
       "    <tr>\n",
       "      <th>1</th>\n",
       "      <td>WELLNESS</td>\n",
       "      <td>Talking to Yourself: Crazy or Crazy Helpful?</td>\n",
       "      <td>https://www.huffingtonpost.com/entry/talking-t...</td>\n",
       "      <td>Think of talking to yourself as a tool to coac...</td>\n",
       "      <td>talking-to-yourself-crazy</td>\n",
       "    </tr>\n",
       "    <tr>\n",
       "      <th>2</th>\n",
       "      <td>WELLNESS</td>\n",
       "      <td>Crenezumab: Trial Will Gauge Whether Alzheimer...</td>\n",
       "      <td>https://www.huffingtonpost.com/entry/crenezuma...</td>\n",
       "      <td>The clock is ticking for the United States to ...</td>\n",
       "      <td>crenezumab-alzheimers-disease-drug</td>\n",
       "    </tr>\n",
       "    <tr>\n",
       "      <th>3</th>\n",
       "      <td>WELLNESS</td>\n",
       "      <td>Oh, What a Difference She Made</td>\n",
       "      <td>https://www.huffingtonpost.com/entry/meaningfu...</td>\n",
       "      <td>If you want to be busy, keep trying to be perf...</td>\n",
       "      <td>meaningful-life</td>\n",
       "    </tr>\n",
       "    <tr>\n",
       "      <th>4</th>\n",
       "      <td>WELLNESS</td>\n",
       "      <td>Green Superfoods</td>\n",
       "      <td>https://www.huffingtonpost.com/entry/green-sup...</td>\n",
       "      <td>First, the bad news: Soda bread, corned beef a...</td>\n",
       "      <td>green-superfoods</td>\n",
       "    </tr>\n",
       "  </tbody>\n",
       "</table>\n",
       "</div>"
      ],
      "text/plain": [
       "   category                                           headline  \\\n",
       "0  WELLNESS              143 Miles in 35 Days: Lessons Learned   \n",
       "1  WELLNESS       Talking to Yourself: Crazy or Crazy Helpful?   \n",
       "2  WELLNESS  Crenezumab: Trial Will Gauge Whether Alzheimer...   \n",
       "3  WELLNESS                     Oh, What a Difference She Made   \n",
       "4  WELLNESS                                   Green Superfoods   \n",
       "\n",
       "                                               links  \\\n",
       "0  https://www.huffingtonpost.com/entry/running-l...   \n",
       "1  https://www.huffingtonpost.com/entry/talking-t...   \n",
       "2  https://www.huffingtonpost.com/entry/crenezuma...   \n",
       "3  https://www.huffingtonpost.com/entry/meaningfu...   \n",
       "4  https://www.huffingtonpost.com/entry/green-sup...   \n",
       "\n",
       "                                   short_description  \\\n",
       "0  Resting is part of training. I've confirmed wh...   \n",
       "1  Think of talking to yourself as a tool to coac...   \n",
       "2  The clock is ticking for the United States to ...   \n",
       "3  If you want to be busy, keep trying to be perf...   \n",
       "4  First, the bad news: Soda bread, corned beef a...   \n",
       "\n",
       "                             keywords  \n",
       "0                     running-lessons  \n",
       "1           talking-to-yourself-crazy  \n",
       "2  crenezumab-alzheimers-disease-drug  \n",
       "3                     meaningful-life  \n",
       "4                    green-superfoods  "
      ]
     },
     "execution_count": 4,
     "metadata": {},
     "output_type": "execute_result"
    }
   ],
   "source": [
    "# Upload the dataset\n",
    "url = 'https://docs.google.com/spreadsheets/d/1m4YMfqQxo_DcbtzGqbfZitvJmytbWUE8qjixhHmtadk/export?format=csv&gid=1552269726#'\n",
    "df = pd.read_csv(url)\n",
    "# Display the few rows of data\n",
    "df.head(5)"
   ]
  },
  {
   "cell_type": "code",
   "execution_count": 5,
   "id": "63ece6ec-ff54-464c-b173-97029a909387",
   "metadata": {},
   "outputs": [
    {
     "name": "stdout",
     "output_type": "stream",
     "text": [
      "<class 'pandas.core.frame.DataFrame'>\n",
      "RangeIndex: 50000 entries, 0 to 49999\n",
      "Data columns (total 5 columns):\n",
      " #   Column             Non-Null Count  Dtype \n",
      "---  ------             --------------  ----- \n",
      " 0   category           50000 non-null  object\n",
      " 1   headline           50000 non-null  object\n",
      " 2   links              50000 non-null  object\n",
      " 3   short_description  50000 non-null  object\n",
      " 4   keywords           47332 non-null  object\n",
      "dtypes: object(5)\n",
      "memory usage: 1.9+ MB\n"
     ]
    }
   ],
   "source": [
    "df.info()"
   ]
  },
  {
   "cell_type": "code",
   "execution_count": 6,
   "id": "31da246a-097a-4aff-902b-d50f1bcbda9f",
   "metadata": {},
   "outputs": [
    {
     "data": {
      "text/plain": [
       "4251"
      ]
     },
     "execution_count": 6,
     "metadata": {},
     "output_type": "execute_result"
    }
   ],
   "source": [
    "df.duplicated().sum()"
   ]
  },
  {
   "cell_type": "code",
   "execution_count": 7,
   "id": "ee64155c-d221-4576-9759-badbf09c7f5d",
   "metadata": {},
   "outputs": [
    {
     "data": {
      "text/html": [
       "<div>\n",
       "<style scoped>\n",
       "    .dataframe tbody tr th:only-of-type {\n",
       "        vertical-align: middle;\n",
       "    }\n",
       "\n",
       "    .dataframe tbody tr th {\n",
       "        vertical-align: top;\n",
       "    }\n",
       "\n",
       "    .dataframe thead th {\n",
       "        text-align: right;\n",
       "    }\n",
       "</style>\n",
       "<table border=\"1\" class=\"dataframe\">\n",
       "  <thead>\n",
       "    <tr style=\"text-align: right;\">\n",
       "      <th></th>\n",
       "      <th>category</th>\n",
       "      <th>headline</th>\n",
       "      <th>links</th>\n",
       "      <th>short_description</th>\n",
       "      <th>keywords</th>\n",
       "    </tr>\n",
       "  </thead>\n",
       "  <tbody>\n",
       "    <tr>\n",
       "      <th>40027</th>\n",
       "      <td>BUSINESS</td>\n",
       "      <td>The 10 Cities With The Longest Work Weeks</td>\n",
       "      <td>https://www.huffingtonpost.com/entry/cities-lo...</td>\n",
       "      <td>Feeling overworked? Moving to a different city...</td>\n",
       "      <td>cities-longest-work-weeks</td>\n",
       "    </tr>\n",
       "    <tr>\n",
       "      <th>40089</th>\n",
       "      <td>BUSINESS</td>\n",
       "      <td>10 States Where People Drink The Most Beer</td>\n",
       "      <td>https://www.huffingtonpost.com/entry/states-be...</td>\n",
       "      <td>(Hat tip: UPI) We are a nation of beer drinker...</td>\n",
       "      <td>states-beer-per-capita-consumption</td>\n",
       "    </tr>\n",
       "    <tr>\n",
       "      <th>40095</th>\n",
       "      <td>BUSINESS</td>\n",
       "      <td>Women in Business: Q&amp;A with Venus Hurst, Found...</td>\n",
       "      <td>https://www.huffingtonpost.com/entry/women-in-...</td>\n",
       "      <td>Venus Hurst is no stranger to entrepreneurship...</td>\n",
       "      <td>women-in-business-qa-with</td>\n",
       "    </tr>\n",
       "    <tr>\n",
       "      <th>40119</th>\n",
       "      <td>BUSINESS</td>\n",
       "      <td>Hiring Guru: Nationwide Debt Direct Hires for ...</td>\n",
       "      <td>https://www.huffingtonpost.com/entry/hiring-gu...</td>\n",
       "      <td>Jeffrey DeLage is Chief Operating Officer of N...</td>\n",
       "      <td>hiring-guru-nationwide-de</td>\n",
       "    </tr>\n",
       "    <tr>\n",
       "      <th>40134</th>\n",
       "      <td>BUSINESS</td>\n",
       "      <td>10 Things To Immediately Do If You Want Your S...</td>\n",
       "      <td>https://www.huffingtonpost.com/entry/10-things...</td>\n",
       "      <td>According to SBA data, “at least 25% of small ...</td>\n",
       "      <td>10-things-to-immediately-do-if-you-want-your-s...</td>\n",
       "    </tr>\n",
       "    <tr>\n",
       "      <th>...</th>\n",
       "      <td>...</td>\n",
       "      <td>...</td>\n",
       "      <td>...</td>\n",
       "      <td>...</td>\n",
       "      <td>...</td>\n",
       "    </tr>\n",
       "    <tr>\n",
       "      <th>49992</th>\n",
       "      <td>SPORTS</td>\n",
       "      <td>Terrence Ross Dunk Contest Video: Raptors' Roo...</td>\n",
       "      <td>https://www.huffingtonpost.com/entry/terrence-...</td>\n",
       "      <td>Whether or not Shaq knew him, Ross figures to ...</td>\n",
       "      <td>terrence-ross-dunk-contest-winner-2013-video</td>\n",
       "    </tr>\n",
       "    <tr>\n",
       "      <th>49993</th>\n",
       "      <td>SPORTS</td>\n",
       "      <td>Norovirus Outbreak At Winter Olympics Prompts ...</td>\n",
       "      <td>https://www.huffingtonpost.com/entry/norovirus...</td>\n",
       "      <td>Troops will replace hundreds of civilian secur...</td>\n",
       "      <td>norovirus-outbreak-at-winter-olympics-prompts-...</td>\n",
       "    </tr>\n",
       "    <tr>\n",
       "      <th>49994</th>\n",
       "      <td>SPORTS</td>\n",
       "      <td>Tiger Woods And Rory McIlroy, Honda Classic Li...</td>\n",
       "      <td>https://www.huffingtonpost.comhttp://golfweek....</td>\n",
       "      <td>Tiger Woods is looking to springboard off a 5-...</td>\n",
       "      <td>NaN</td>\n",
       "    </tr>\n",
       "    <tr>\n",
       "      <th>49997</th>\n",
       "      <td>SPORTS</td>\n",
       "      <td>Rasheed Wallace Ejected From Knicks-Suns Game ...</td>\n",
       "      <td>https://www.huffingtonpost.com/entry/rasheed-w...</td>\n",
       "      <td>Wallace was hit with a first technical for a h...</td>\n",
       "      <td>rasheed-wallace-ejected-knicks-suns-ball-dont-lie</td>\n",
       "    </tr>\n",
       "    <tr>\n",
       "      <th>49998</th>\n",
       "      <td>SPORTS</td>\n",
       "      <td>Why Jake Plummer And Other NFL Players Are Pus...</td>\n",
       "      <td>https://www.huffingtonpost.comhttp://extras.de...</td>\n",
       "      <td>They believe CBD could be an alternative to po...</td>\n",
       "      <td>NaN</td>\n",
       "    </tr>\n",
       "  </tbody>\n",
       "</table>\n",
       "<p>4251 rows × 5 columns</p>\n",
       "</div>"
      ],
      "text/plain": [
       "       category                                           headline  \\\n",
       "40027  BUSINESS          The 10 Cities With The Longest Work Weeks   \n",
       "40089  BUSINESS         10 States Where People Drink The Most Beer   \n",
       "40095  BUSINESS  Women in Business: Q&A with Venus Hurst, Found...   \n",
       "40119  BUSINESS  Hiring Guru: Nationwide Debt Direct Hires for ...   \n",
       "40134  BUSINESS  10 Things To Immediately Do If You Want Your S...   \n",
       "...         ...                                                ...   \n",
       "49992    SPORTS  Terrence Ross Dunk Contest Video: Raptors' Roo...   \n",
       "49993    SPORTS  Norovirus Outbreak At Winter Olympics Prompts ...   \n",
       "49994    SPORTS  Tiger Woods And Rory McIlroy, Honda Classic Li...   \n",
       "49997    SPORTS  Rasheed Wallace Ejected From Knicks-Suns Game ...   \n",
       "49998    SPORTS  Why Jake Plummer And Other NFL Players Are Pus...   \n",
       "\n",
       "                                                   links  \\\n",
       "40027  https://www.huffingtonpost.com/entry/cities-lo...   \n",
       "40089  https://www.huffingtonpost.com/entry/states-be...   \n",
       "40095  https://www.huffingtonpost.com/entry/women-in-...   \n",
       "40119  https://www.huffingtonpost.com/entry/hiring-gu...   \n",
       "40134  https://www.huffingtonpost.com/entry/10-things...   \n",
       "...                                                  ...   \n",
       "49992  https://www.huffingtonpost.com/entry/terrence-...   \n",
       "49993  https://www.huffingtonpost.com/entry/norovirus...   \n",
       "49994  https://www.huffingtonpost.comhttp://golfweek....   \n",
       "49997  https://www.huffingtonpost.com/entry/rasheed-w...   \n",
       "49998  https://www.huffingtonpost.comhttp://extras.de...   \n",
       "\n",
       "                                       short_description  \\\n",
       "40027  Feeling overworked? Moving to a different city...   \n",
       "40089  (Hat tip: UPI) We are a nation of beer drinker...   \n",
       "40095  Venus Hurst is no stranger to entrepreneurship...   \n",
       "40119  Jeffrey DeLage is Chief Operating Officer of N...   \n",
       "40134  According to SBA data, “at least 25% of small ...   \n",
       "...                                                  ...   \n",
       "49992  Whether or not Shaq knew him, Ross figures to ...   \n",
       "49993  Troops will replace hundreds of civilian secur...   \n",
       "49994  Tiger Woods is looking to springboard off a 5-...   \n",
       "49997  Wallace was hit with a first technical for a h...   \n",
       "49998  They believe CBD could be an alternative to po...   \n",
       "\n",
       "                                                keywords  \n",
       "40027                          cities-longest-work-weeks  \n",
       "40089                 states-beer-per-capita-consumption  \n",
       "40095                          women-in-business-qa-with  \n",
       "40119                          hiring-guru-nationwide-de  \n",
       "40134  10-things-to-immediately-do-if-you-want-your-s...  \n",
       "...                                                  ...  \n",
       "49992       terrence-ross-dunk-contest-winner-2013-video  \n",
       "49993  norovirus-outbreak-at-winter-olympics-prompts-...  \n",
       "49994                                                NaN  \n",
       "49997  rasheed-wallace-ejected-knicks-suns-ball-dont-lie  \n",
       "49998                                                NaN  \n",
       "\n",
       "[4251 rows x 5 columns]"
      ]
     },
     "execution_count": 7,
     "metadata": {},
     "output_type": "execute_result"
    }
   ],
   "source": [
    "duplicate = df[df.duplicated()]\n",
    "duplicate"
   ]
  },
  {
   "cell_type": "code",
   "execution_count": 8,
   "id": "eb0dd171-1592-461e-b393-b080953eaf94",
   "metadata": {},
   "outputs": [
    {
     "data": {
      "text/plain": [
       "category\n",
       "SPORTS      2342\n",
       "BUSINESS    1909\n",
       "Name: count, dtype: int64"
      ]
     },
     "execution_count": 8,
     "metadata": {},
     "output_type": "execute_result"
    }
   ],
   "source": [
    "count = duplicate['category'].value_counts()\n",
    "count"
   ]
  },
  {
   "cell_type": "code",
   "execution_count": 9,
   "id": "264d23c1-33be-4f3d-be92-715698f26bdc",
   "metadata": {},
   "outputs": [],
   "source": [
    "df.drop_duplicates(inplace=True)"
   ]
  },
  {
   "cell_type": "code",
   "execution_count": 10,
   "id": "18ed4062-4c5b-43be-86f4-a36048f36b4d",
   "metadata": {},
   "outputs": [
    {
     "data": {
      "image/png": "[encoded data removed]",
      "text/plain": [
       "<Figure size 640x480 with 1 Axes>"
      ]
     },
     "metadata": {},
     "output_type": "display_data"
    }
   ],
   "source": [
    "# Donut graph of category\n",
    "count_cat = df['category'].value_counts()\n",
    "plt.pie(count_cat, labels=count_cat.index, autopct='%1.1f%%',\n",
    "       startangle=90, wedgeprops=dict(width=0.4))\n",
    "plt.title(\"Distribution of Category\")\n",
    "plt.show()"
   ]
  },
  {
   "cell_type": "code",
   "execution_count": 11,
   "id": "75d8407d-0970-4c6b-b188-ce4fff96378a",
   "metadata": {},
   "outputs": [
    {
     "data": {
      "text/plain": [
       "category\n",
       "WELLNESS          5000\n",
       "POLITICS          5000\n",
       "ENTERTAINMENT     5000\n",
       "TRAVEL            5000\n",
       "STYLE & BEAUTY    5000\n",
       "PARENTING         5000\n",
       "FOOD & DRINK      5000\n",
       "WORLD NEWS        5000\n",
       "BUSINESS          3091\n",
       "SPORTS            2658\n",
       "Name: count, dtype: int64"
      ]
     },
     "execution_count": 11,
     "metadata": {},
     "output_type": "execute_result"
    }
   ],
   "source": [
    "count_cat"
   ]
  },
  {
   "cell_type": "code",
   "execution_count": 12,
   "id": "07e52f00-2b1f-4450-ab0e-aaca00b9072e",
   "metadata": {},
   "outputs": [
    {
     "name": "stdout",
     "output_type": "stream",
     "text": [
      "Headline:\n",
      " Talking to Yourself: Crazy or Crazy Helpful?\n",
      "Short Description:\n",
      " Think of talking to yourself as a tool to coach yourself through a challenge, or to narrate your own experiences to yourself. In any case, treat yourself with respect and you just may find you enjoy your own company.\n",
      "Combine Text:\n",
      " Talking to Yourself: Crazy or Crazy Helpful? Think of talking to yourself as a tool to coach yourself through a challenge, or to narrate your own experiences to yourself. In any case, treat yourself with respect and you just may find you enjoy your own company.\n"
     ]
    }
   ],
   "source": [
    "# Combine relevant text fields\n",
    "df['text'] = df['headline']+' '+df['short_description']\n",
    "print(\"Headline:\\n\", df['headline'][1])\n",
    "print(\"Short Description:\\n\",df['short_description'][1])\n",
    "print(\"Combine Text:\\n\",df['text'][1])"
   ]
  },
  {
   "cell_type": "markdown",
   "id": "b1fb3fd5-c460-4774-ae32-78bf4b55c69b",
   "metadata": {},
   "source": [
    "#### Preprocessing Text variable"
   ]
  },
  {
   "cell_type": "code",
   "execution_count": 13,
   "id": "93f8d7df-44fb-4a74-a6c2-0ff92fa8f6a3",
   "metadata": {},
   "outputs": [],
   "source": [
    "# Text preprocessing function\n",
    "stop_words = set(stopwords.words('english'))\n",
    "lemmatizer = WordNetLemmatizer()\n",
    "\n",
    "def preprocess(text):\n",
    "    text = contractions.fix(text) \n",
    "    text = text.lower()\n",
    "    text = re.sub(r'[^a-z\\s]',\"\",text)\n",
    "    tokens = word_tokenize(text)\n",
    "    tokens = [word for word in tokens if word not in stop_words]\n",
    "    tokens = [lemmatizer.lemmatize(word) for word in tokens]\n",
    "    return tokens"
   ]
  },
  {
   "cell_type": "code",
   "execution_count": 14,
   "id": "8e841541-211c-4170-931f-bdbd0dc23c42",
   "metadata": {},
   "outputs": [],
   "source": [
    "df['tokens'] = df['text'].apply(preprocess)"
   ]
  },
  {
   "cell_type": "code",
   "execution_count": 15,
   "id": "44a68933-61f9-4380-8861-d4cad06c347b",
   "metadata": {},
   "outputs": [
    {
     "name": "stdout",
     "output_type": "stream",
     "text": [
      "Text:\n",
      " 143 Miles in 35 Days: Lessons Learned Resting is part of training. I've confirmed what I sort of already knew: I'm not built for running streaks. I'm built for hard workouts three to five days a week with lots of cross training, physical therapy and foam rolling. But I've also confirmed that I'm stubborn with myself.\n",
      "Tokens:\n",
      " ['mile', 'day', 'lesson', 'learned', 'resting', 'part', 'training', 'confirmed', 'sort', 'already', 'knew', 'built', 'running', 'streak', 'built', 'hard', 'workout', 'three', 'five', 'day', 'week', 'lot', 'cross', 'training', 'physical', 'therapy', 'foam', 'rolling', 'also', 'confirmed', 'stubborn']\n"
     ]
    }
   ],
   "source": [
    "print(\"Text:\\n\", df['text'][0])\n",
    "print(\"Tokens:\\n\",df['tokens'][0])"
   ]
  },
  {
   "cell_type": "markdown",
   "id": "f0e6bb84-3eee-4077-a494-eab1a7dd9148",
   "metadata": {},
   "source": [
    "##### TF-IDF (Term Frequency-Inverse Document Frequency) Model"
   ]
  },
  {
   "cell_type": "code",
   "execution_count": 16,
   "id": "cd2669b9-63e2-4d75-9361-d4f016e5eed0",
   "metadata": {},
   "outputs": [
    {
     "data": {
      "text/plain": [
       "'talking crazy crazy helpful think talking tool coach challenge narrate experience case treat respect may find enjoy company'"
      ]
     },
     "execution_count": 16,
     "metadata": {},
     "output_type": "execute_result"
    }
   ],
   "source": [
    "df['clean_token'] = df['tokens'].apply(lambda x:' '.join(x))\n",
    "df['clean_token'][1]"
   ]
  },
  {
   "cell_type": "code",
   "execution_count": 17,
   "id": "5a378350-a693-4794-92ac-f68245e27016",
   "metadata": {},
   "outputs": [],
   "source": [
    "tfidf_vector = TfidfVectorizer()\n",
    "x_tfidf = tfidf_vector.fit_transform(df['clean_token'])"
   ]
  },
  {
   "cell_type": "code",
   "execution_count": 18,
   "id": "b4faa632-97a1-47e5-9d42-4fe2d43121d8",
   "metadata": {},
   "outputs": [
    {
     "name": "stdout",
     "output_type": "stream",
     "text": [
      "TF-IDF Shape: (45749, 50883)\n",
      "[[0. 0. 0. ... 0. 0. 0.]\n",
      " [0. 0. 0. ... 0. 0. 0.]\n",
      " [0. 0. 0. ... 0. 0. 0.]\n",
      " [0. 0. 0. ... 0. 0. 0.]\n",
      " [0. 0. 0. ... 0. 0. 0.]]\n"
     ]
    }
   ],
   "source": [
    "print(\"TF-IDF Shape:\", x_tfidf.shape)\n",
    "print(x_tfidf[:5].toarray())"
   ]
  },
  {
   "cell_type": "code",
   "execution_count": 19,
   "id": "b25f8f21-8e5c-4316-8010-dcd6a0939f22",
   "metadata": {},
   "outputs": [
    {
     "name": "stdout",
     "output_type": "stream",
     "text": [
      "Features Names Words:\n",
      "['aa' 'aaa' 'aafa' ... 'zyola' 'zywicki' 'zzzs']\n"
     ]
    }
   ],
   "source": [
    "print(\"Features Names Words:\")\n",
    "print(tfidf_vector.get_feature_names_out())"
   ]
  },
  {
   "cell_type": "markdown",
   "id": "2529a666-f6c2-4c9f-b3a6-db8dc35b7a3c",
   "metadata": {},
   "source": [
    "#### Word Embeddings (Word2Vec) "
   ]
  },
  {
   "cell_type": "code",
   "execution_count": 20,
   "id": "818c9302-d701-41af-86a5-9757d30ffa92",
   "metadata": {},
   "outputs": [
    {
     "name": "stdout",
     "output_type": "stream",
     "text": [
      "[-3.81238341e-01 -3.90612371e-02  9.00837011e-04  2.93212645e-02\n",
      " -1.39527902e-01 -2.86812276e-01  5.22437096e-01  1.78733647e-01\n",
      " -7.66025424e-01  3.53120118e-01 -8.30383658e-01 -6.98107421e-01\n",
      "  4.74177897e-01  1.43015933e+00 -3.76991951e-03 -6.78906322e-01\n",
      " -2.67250419e-01  2.47557983e-02  7.63173103e-02 -2.32044053e+00\n",
      "  1.13407946e+00 -1.93468660e-01 -2.53870517e-01 -5.76406598e-01\n",
      "  3.82603705e-01 -5.63365638e-01 -7.74916649e-01 -1.05338168e+00\n",
      "  4.16825026e-01  9.81650710e-01  1.46328986e+00  9.06114638e-01\n",
      "  5.70084453e-01 -6.09032273e-01 -1.40095556e+00  4.79441360e-02\n",
      " -5.81873894e-01  5.12894869e-01  8.11243653e-01 -1.40633440e+00\n",
      "  1.74512491e-01 -5.72018147e-01  9.76370871e-01  3.55883420e-01\n",
      "  9.06953812e-01 -6.50282264e-01 -4.45853382e-01 -5.17786860e-01\n",
      "  1.61383712e+00  4.08694327e-01 -3.23886156e-01 -3.07858497e-01\n",
      "  1.78244591e-01  8.93194526e-02 -7.06335127e-01  1.05240512e+00\n",
      " -6.05759442e-01  2.04105213e-01 -1.23559153e+00  2.15371221e-01\n",
      "  6.36793852e-01 -9.02282715e-01  5.75983763e-01  1.79544002e-01\n",
      " -8.77696455e-01  5.94713986e-01 -5.30060589e-01  4.46306169e-01\n",
      " -1.59115493e+00  4.45573293e-02 -2.86659271e-01  4.12433833e-01\n",
      " -6.23904690e-02 -8.70523676e-02  1.40963113e+00 -1.56236306e-01\n",
      " -2.60321200e-01  8.46701145e-01  2.18821496e-01  4.03228909e-01\n",
      "  4.85405684e-01 -1.11512339e+00 -6.73686743e-01  1.23363602e+00\n",
      " -6.05852664e-01 -4.02019382e-01 -1.48061529e-01 -3.17102283e-01\n",
      "  1.64737332e+00  5.52943885e-01  6.99198961e-01  5.09882569e-01\n",
      " -2.40485534e-01  4.24130499e-01 -1.89201698e-01  3.32929343e-01\n",
      " -6.49888277e-01 -1.03328392e-01 -4.74808067e-01  1.12131545e-02]\n",
      "[('bad', 0.9677020907402039), ('lot', 0.928691565990448), ('pretty', 0.9230566024780273), ('better', 0.9181541800498962), ('actually', 0.9177157282829285), ('even', 0.9163979887962341), ('eating', 0.9152947068214417), ('think', 0.9152863621711731), ('probably', 0.9138866066932678), ('much', 0.913338303565979)]\n"
     ]
    }
   ],
   "source": [
    "sentences = df['tokens'].tolist()\n",
    "# Train Word2Vec model\n",
    "w2v_model = Word2Vec(sentences, vector_size=100, window=5, min_count=2)\n",
    "# Check vector for a word\n",
    "print(w2v_model.wv['good'])\n",
    "# Find similar words\n",
    "print(w2v_model.wv.most_similar('good'))"
   ]
  },
  {
   "cell_type": "code",
   "execution_count": 21,
   "id": "04d0dea2-3eef-469a-af7f-92dce592056b",
   "metadata": {},
   "outputs": [],
   "source": [
    "# Convert each tokens text to average word vector\n",
    "def get_avg_vector(tokens, model):\n",
    "    vectors = [model.wv[w] for w in tokens if w in model.wv]  # Convert each review to average word vector\n",
    "    if len(vectors) == 0:\n",
    "        return np.zeros(model.vector_size) # if no known words\n",
    "    return np.mean(vectors, axis=0)  # average along rows"
   ]
  },
  {
   "cell_type": "code",
   "execution_count": 22,
   "id": "31ca89ce-d569-4be9-b49e-906ada1a98cd",
   "metadata": {},
   "outputs": [],
   "source": [
    "df['embedding'] = df['tokens'].apply(lambda x:get_avg_vector(x,w2v_model))"
   ]
  },
  {
   "cell_type": "code",
   "execution_count": 23,
   "id": "3e036f8c-4f5b-4206-a274-9b24155e0e7c",
   "metadata": {},
   "outputs": [
    {
     "data": {
      "text/plain": [
       "array([-2.4744451e-01,  4.2714027e-01, -1.2594654e-01,  1.8457858e-02,\n",
       "       -1.3294071e-01, -4.8289236e-01,  4.1716486e-01,  5.4694927e-01,\n",
       "       -4.5010832e-01, -2.4460138e-01, -5.5815369e-01, -6.3542312e-01,\n",
       "       -6.3225746e-02,  5.0998002e-01,  3.3659938e-01, -1.7646697e-01,\n",
       "       -3.3029862e-02, -4.7917187e-01, -1.1176520e-01, -1.3447243e+00,\n",
       "        3.2029295e-01, -9.3802884e-03,  1.8048106e-01, -3.5331076e-01,\n",
       "        1.4547644e-02, -5.2216202e-02, -5.0497955e-01, -2.7881402e-01,\n",
       "        1.1014670e-01,  3.7611154e-01,  9.8142117e-01,  4.1817060e-01,\n",
       "        1.4819153e-01, -4.8787060e-01, -4.8103511e-01,  1.2964176e-01,\n",
       "       -3.5502180e-02,  6.9553636e-02,  2.6686570e-01, -8.5417038e-01,\n",
       "        2.1957571e-02, -3.2412246e-01,  3.2334843e-01,  1.1308220e-01,\n",
       "        2.8206325e-01, -6.0795820e-01, -4.7548231e-01,  6.1411493e-02,\n",
       "        7.1444941e-01,  1.9975258e-01, -2.2009687e-01, -3.5060987e-01,\n",
       "        9.4867293e-03, -2.1615298e-02, -2.9917485e-01,  5.4275960e-01,\n",
       "        3.7443280e-02,  3.1446838e-01, -4.1443399e-01,  1.8550082e-01,\n",
       "        2.9874858e-01, -2.1031626e-01,  2.0029532e-02,  1.0662697e-03,\n",
       "       -1.6795385e-01,  1.9449249e-01, -1.5288992e-01,  1.9442560e-01,\n",
       "       -5.7089293e-01,  1.2465768e-02, -2.7125099e-01,  1.0927493e-01,\n",
       "        3.1852221e-01, -1.9046599e-01,  8.7837648e-01,  1.7540020e-01,\n",
       "       -3.6032945e-01,  1.8397194e-01, -2.7869833e-01,  3.0349213e-01,\n",
       "        1.0488014e-01, -5.4013586e-01, -4.2487481e-01,  9.2864013e-01,\n",
       "       -8.4255673e-03, -1.5987553e-01, -1.3356730e-01,  1.8446125e-01,\n",
       "        9.0681517e-01,  1.6828655e-01,  6.3425535e-01,  4.5128748e-01,\n",
       "       -2.8319750e-03,  3.3939758e-01,  3.5759345e-01,  6.5164194e-02,\n",
       "       -1.5910721e-01, -1.3959709e-01,  2.6445493e-01,  3.3331823e-02],\n",
       "      dtype=float32)"
      ]
     },
     "execution_count": 23,
     "metadata": {},
     "output_type": "execute_result"
    }
   ],
   "source": [
    "df['embedding'][1]"
   ]
  },
  {
   "cell_type": "code",
   "execution_count": 24,
   "id": "b3355a82-090f-4813-83ce-9da80cc1861d",
   "metadata": {},
   "outputs": [
    {
     "data": {
      "text/plain": [
       "{'BUSINESS': 0,\n",
       " 'ENTERTAINMENT': 1,\n",
       " 'FOOD & DRINK': 2,\n",
       " 'PARENTING': 3,\n",
       " 'POLITICS': 4,\n",
       " 'SPORTS': 5,\n",
       " 'STYLE & BEAUTY': 6,\n",
       " 'TRAVEL': 7,\n",
       " 'WELLNESS': 8,\n",
       " 'WORLD NEWS': 9}"
      ]
     },
     "execution_count": 24,
     "metadata": {},
     "output_type": "execute_result"
    }
   ],
   "source": [
    "# encode the category\n",
    "le = LabelEncoder()\n",
    "df['category_label'] = le.fit_transform(df['category'])\n",
    "label_map = dict(zip(le.classes_,le.transform(le.classes_)))\n",
    "label_map"
   ]
  },
  {
   "cell_type": "code",
   "execution_count": 25,
   "id": "46a3136b-0427-4444-a5a1-8d81ba40db51",
   "metadata": {},
   "outputs": [],
   "source": [
    "x = np.vstack(df['embedding'].values)\n",
    "y = df['category_label']\n",
    "\n",
    "x_train,x_test,y_train,y_test = train_test_split(x,y,test_size=0.2,random_state=42)"
   ]
  },
  {
   "cell_type": "code",
   "execution_count": 26,
   "id": "02e16c07-8ef2-424b-b85c-39124f08d37c",
   "metadata": {},
   "outputs": [
    {
     "name": "stdout",
     "output_type": "stream",
     "text": [
      "Training set Size: (36599, 100)\n",
      "Testing Set Size: (9150, 100)\n"
     ]
    }
   ],
   "source": [
    "print(\"Training set Size:\", x_train.shape)\n",
    "print(\"Testing Set Size:\", x_test.shape)"
   ]
  },
  {
   "cell_type": "code",
   "execution_count": 27,
   "id": "d3e22c6b-72cc-4dc3-a55e-1e963bfa61f6",
   "metadata": {},
   "outputs": [],
   "source": [
    "models = [LogisticRegression(max_iter=1000),\n",
    "         GaussianNB(),\n",
    "         LinearSVC()]"
   ]
  },
  {
   "cell_type": "code",
   "execution_count": 28,
   "id": "63ab7795-0ed1-453f-93d9-90d8499871dc",
   "metadata": {},
   "outputs": [],
   "source": [
    "def evaluate_models(models,x,y,x_train,x_test,y_train,y_test):\n",
    "    for model in models:\n",
    "        cv_scores = cross_val_score(model, x, y, cv=5)\n",
    "        model.fit(x_train,y_train)\n",
    "        y_pred = model.predict(x_test)\n",
    "        acc = accuracy_score(y_test,y_pred)\n",
    "\n",
    "        print(\"=\"*60)\n",
    "        print(f\"{model.__class__.__name__}\")\n",
    "        print(f\"Cross-Val Accuracy: {cv_scores.mean():.4f} (+/- {cv_scores.std():.4f})\")\n",
    "        print(f\"Accuracy: {acc:.4f}\")\n",
    "        print(\"Classification Report:\")\n",
    "        print(classification_report(y_test,y_pred))"
   ]
  },
  {
   "cell_type": "code",
   "execution_count": 29,
   "id": "811ba29f-9887-4c23-ac5a-9cd852902765",
   "metadata": {},
   "outputs": [
    {
     "name": "stdout",
     "output_type": "stream",
     "text": [
      "============================================================\n",
      "LogisticRegression\n",
      "Cross-Val Accuracy: 0.5444 (+/- 0.0035)\n",
      "Accuracy: 0.5469\n",
      "Classification Report:\n",
      "              precision    recall  f1-score   support\n",
      "\n",
      "           0       0.42      0.19      0.26       631\n",
      "           1       0.44      0.57      0.49       990\n",
      "           2       0.66      0.67      0.67       994\n",
      "           3       0.57      0.60      0.59       973\n",
      "           4       0.57      0.54      0.56      1001\n",
      "           5       0.57      0.21      0.30       533\n",
      "           6       0.67      0.63      0.65      1027\n",
      "           7       0.54      0.52      0.53       983\n",
      "           8       0.49      0.57      0.53      1024\n",
      "           9       0.52      0.68      0.59       994\n",
      "\n",
      "    accuracy                           0.55      9150\n",
      "   macro avg       0.54      0.52      0.52      9150\n",
      "weighted avg       0.55      0.55      0.54      9150\n",
      "\n",
      "============================================================\n",
      "GaussianNB\n",
      "Cross-Val Accuracy: 0.3657 (+/- 0.0068)\n",
      "Accuracy: 0.3741\n",
      "Classification Report:\n",
      "              precision    recall  f1-score   support\n",
      "\n",
      "           0       0.18      0.18      0.18       631\n",
      "           1       0.25      0.24      0.25       990\n",
      "           2       0.56      0.52      0.54       994\n",
      "           3       0.37      0.47      0.41       973\n",
      "           4       0.50      0.31      0.38      1001\n",
      "           5       0.19      0.36      0.25       533\n",
      "           6       0.57      0.39      0.46      1027\n",
      "           7       0.36      0.33      0.34       983\n",
      "           8       0.37      0.25      0.30      1024\n",
      "           9       0.42      0.61      0.50       994\n",
      "\n",
      "    accuracy                           0.37      9150\n",
      "   macro avg       0.38      0.37      0.36      9150\n",
      "weighted avg       0.39      0.37      0.37      9150\n",
      "\n",
      "============================================================\n",
      "LinearSVC\n",
      "Cross-Val Accuracy: 0.5784 (+/- 0.0039)\n",
      "Accuracy: 0.5769\n",
      "Classification Report:\n",
      "              precision    recall  f1-score   support\n",
      "\n",
      "           0       0.59      0.15      0.24       631\n",
      "           1       0.50      0.57      0.53       990\n",
      "           2       0.67      0.72      0.69       994\n",
      "           3       0.60      0.70      0.65       973\n",
      "           4       0.57      0.56      0.56      1001\n",
      "           5       0.66      0.24      0.36       533\n",
      "           6       0.64      0.68      0.66      1027\n",
      "           7       0.58      0.50      0.54       983\n",
      "           8       0.53      0.60      0.56      1024\n",
      "           9       0.52      0.72      0.61       994\n",
      "\n",
      "    accuracy                           0.58      9150\n",
      "   macro avg       0.59      0.55      0.54      9150\n",
      "weighted avg       0.58      0.58      0.56      9150\n",
      "\n"
     ]
    }
   ],
   "source": [
    "evaluate_models(models,x,y,x_train,x_test,y_train,y_test)"
   ]
  },
  {
   "cell_type": "markdown",
   "id": "96683c75-a6fb-4768-9722-7fa563919b7e",
   "metadata": {},
   "source": [
    "* LinearSVC is performing best among the three models."
   ]
  }
 ],
 "metadata": {
  "kernelspec": {
   "display_name": "Python 3 (ipykernel)",
   "language": "python",
   "name": "python3"
  },
  "language_info": {
   "codemirror_mode": {
    "name": "ipython",
    "version": 3
   },
   "file_extension": ".py",
   "mimetype": "text/x-python",
   "name": "python",
   "nbconvert_exporter": "python",
   "pygments_lexer": "ipython3",
   "version": "3.13.5"
  }
 },
 "nbformat": 4,
 "nbformat_minor": 5
}
